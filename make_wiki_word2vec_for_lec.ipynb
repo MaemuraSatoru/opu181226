{
  "nbformat": 4,
  "nbformat_minor": 0,
  "metadata": {
    "colab": {
      "name": "make_wiki_word2vec_for_lec.ipynb",
      "version": "0.3.2",
      "provenance": [],
      "include_colab_link": true
    },
    "kernelspec": {
      "name": "python3",
      "display_name": "Python 3"
    }
  },
  "cells": [
    {
      "cell_type": "markdown",
      "metadata": {
        "id": "view-in-github",
        "colab_type": "text"
      },
      "source": [
        "<a href=\"https://colab.research.google.com/github/MaemuraSatoru/opu181226/blob/master/make_wiki_word2vec_for_lec.ipynb\" target=\"_parent\"><img src=\"https://colab.research.google.com/assets/colab-badge.svg\" alt=\"Open In Colab\"/></a>"
      ]
    },
    {
      "metadata": {
        "id": "9PSzGoMJ9PWM",
        "colab_type": "text"
      },
      "cell_type": "markdown",
      "source": [
        "# google driveをマウント"
      ]
    },
    {
      "metadata": {
        "id": "zj7-oXGBcUxx",
        "colab_type": "code",
        "colab": {}
      },
      "cell_type": "code",
      "source": [
        "from google.colab import drive\n",
        "drive.mount('/content/drive')"
      ],
      "execution_count": 0,
      "outputs": []
    },
    {
      "metadata": {
        "id": "YjMT_DPq9SfI",
        "colab_type": "text"
      },
      "cell_type": "markdown",
      "source": [
        "# 必要なライブラリをインストール"
      ]
    },
    {
      "metadata": {
        "id": "llvkqzsWcdQa",
        "colab_type": "code",
        "colab": {}
      },
      "cell_type": "code",
      "source": [
        "!pip install gensim"
      ],
      "execution_count": 0,
      "outputs": []
    },
    {
      "metadata": {
        "id": "qHlx3tdg9XJ8",
        "colab_type": "text"
      },
      "cell_type": "markdown",
      "source": [
        "# wikiモデルの構築\n",
        "WIKI_TXT_FILEPATHは学習に使うテキストファイルのパスに変更してください<br>\n",
        "WIKI_MODELは保存したいファイルパスへ変更してください"
      ]
    },
    {
      "metadata": {
        "id": "F4fjmWjvcZEv",
        "colab_type": "code",
        "colab": {}
      },
      "cell_type": "code",
      "source": [
        "from gensim.models import word2vec\n",
        "\n",
        "WIKI_TXT_FILEPATH = '/content/drive/My Drive/GAS/for_TA/simple_word2vec/tokenized_wiki_mini.txt'\n",
        "WIKI_MODEL = '/content/drive/My Drive/GAS/for_TA/simple_word2vec/wiki/wiki.model'\n",
        "\n",
        "data = word2vec.LineSentence(WIKI_TXT_FILEPATH)\n",
        "model = word2vec.Word2Vec(data, sg=1, size=200, min_count=15, window=15, iter=3)\n",
        "model.save(WIKI_MODEL)"
      ],
      "execution_count": 0,
      "outputs": []
    },
    {
      "metadata": {
        "id": "oExpvEIJ9ZQC",
        "colab_type": "text"
      },
      "cell_type": "markdown",
      "source": [
        "# モデルの読み込み\n",
        "KAMERIO_MODELにモデルファイルのパスへ変更してください\n"
      ]
    },
    {
      "metadata": {
        "id": "SEs0geE5wE2V",
        "colab_type": "code",
        "colab": {}
      },
      "cell_type": "code",
      "source": [
        "import gensim\n",
        "\n",
        "KAMERIO_MODEL =  '/content/drive/My Drive/Lecture/SoftwareSystem/simple_word2vec/latest-ja-word2vec-gensim-model/word2vec.gensim.model'\n",
        "\n",
        "model = gensim.models.Word2Vec.load(KAMERIO_MODEL)\n",
        "\n",
        "# model.most_similar('クリスマス')\n",
        "# model.most_similar('スマホ')\n",
        "model.most_similar(positive=['東京','フランス'],negative=['日本'])\n",
        "# model.most_similar(positive=['木','イルミネーション'])\n",
        "# model.most_similar(positive=['おじさん','プレゼント','トナカイ','クリスマス'])"
      ],
      "execution_count": 0,
      "outputs": []
    }
  ]
}
